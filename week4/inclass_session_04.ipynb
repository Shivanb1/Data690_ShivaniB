{
  "nbformat": 4,
  "nbformat_minor": 2,
  "metadata": {
    "colab": {
      "name": "inclass_session_04.ipynb",
      "provenance": []
    },
    "kernelspec": {
      "name": "python3",
      "display_name": "Python 3"
    },
    "language_info": {
      "name": "python"
    }
  },
  "cells": [
    {
      "cell_type": "markdown",
      "source": [
        "\n"
      ],
      "metadata": {
        "id": "ZIFu-seD71Tq"
      }
    },
    {
      "cell_type": "code",
      "execution_count": 2,
      "source": [
        "x = 'hello'"
      ],
      "outputs": [],
      "metadata": {
        "id": "Q6SNyC4044Yv"
      }
    },
    {
      "cell_type": "code",
      "execution_count": 3,
      "source": [
        "x = x.replace('l',\"\")\n",
        "\n",
        "print(x)"
      ],
      "outputs": [
        {
          "output_type": "stream",
          "name": "stdout",
          "text": [
            "heo\n"
          ]
        }
      ],
      "metadata": {
        "colab": {
          "base_uri": "https://localhost:8080/"
        },
        "id": "vYpSXSEm1Iy7",
        "outputId": "0a3449de-a4ce-4667-c361-6166a11f3f52"
      }
    },
    {
      "cell_type": "code",
      "execution_count": 4,
      "source": [
        "import random\n",
        "import re\n",
        "for i in range(0,10):\n",
        "    print(end=\"\\n \")\n",
        "    for j in range(0,10):\n",
        "        num=random.randint(0,9)\n",
        "        if (num % 2) == 0:\n",
        "            print(num, end=\" \")\n",
        "        else:\n",
        "            strnum = str(num)\n",
        "            strnum=strnum.replace(strnum,\"@\")\n",
        "            print(strnum, end=\" \")"
      ],
      "outputs": [
        {
          "output_type": "stream",
          "name": "stdout",
          "text": [
            "\n",
            " 6 @ 4 @ 8 4 2 2 @ 0 \n",
            " 6 4 8 4 @ @ 4 6 @ 4 \n",
            " 6 0 @ 2 0 0 @ 4 2 @ \n",
            " 8 6 @ @ @ 2 2 @ @ 4 \n",
            " 8 @ 2 @ 6 6 0 8 0 4 \n",
            " 6 @ @ 2 4 4 @ 6 6 2 \n",
            " 0 8 6 @ @ @ @ 6 0 8 \n",
            " @ 0 @ 0 @ @ @ @ 0 @ \n",
            " 0 @ @ 0 4 8 8 0 4 4 \n",
            " @ @ @ @ 8 @ 2 @ 2 2 "
          ]
        }
      ],
      "metadata": {
        "colab": {
          "base_uri": "https://localhost:8080/"
        },
        "id": "IcaojPUK410f",
        "outputId": "57dc35be-080b-43a2-a1d5-3b08822c6b14"
      }
    },
    {
      "cell_type": "code",
      "execution_count": 8,
      "source": [
        "import random\n",
        "numbers = []\n",
        "for i in range(100):\n",
        "  numbers.append(random.randint(0,9))"
      ],
      "outputs": [],
      "metadata": {
        "id": "MJNEtQ8K5zVE"
      }
    },
    {
      "cell_type": "code",
      "execution_count": 9,
      "source": [
        "count=0\n",
        "for i in range(10):\n",
        "    for j in range(10):\n",
        "        print(numbers[count],\" \", end =\" \")\n",
        "        count+=1\n",
        "    print(\"\\n\")"
      ],
      "outputs": [
        {
          "output_type": "stream",
          "name": "stdout",
          "text": [
            "0   1   8   8   9   3   7   6   2   4   \n",
            "\n",
            "4   9   3   8   0   2   4   8   4   4   \n",
            "\n",
            "9   3   2   4   7   6   1   3   8   1   \n",
            "\n",
            "3   2   5   9   2   5   5   3   2   2   \n",
            "\n",
            "6   3   3   5   1   4   9   2   4   9   \n",
            "\n",
            "3   3   8   0   1   1   8   4   7   7   \n",
            "\n",
            "3   0   8   1   8   9   0   1   8   7   \n",
            "\n",
            "7   5   1   3   0   0   7   4   7   8   \n",
            "\n",
            "1   0   7   8   4   6   6   1   1   5   \n",
            "\n",
            "4   2   0   5   2   3   0   7   2   2   \n",
            "\n"
          ]
        }
      ],
      "metadata": {
        "colab": {
          "base_uri": "https://localhost:8080/"
        },
        "id": "TK4Tr5xA47QL",
        "outputId": "60c00054-fe9a-41ea-cdfe-0ea40075df11"
      }
    },
    {
      "cell_type": "code",
      "execution_count": 7,
      "source": [
        "#  generate 100 number first\n",
        "numbers=[]     # This list is to hold 100 random numbers\n",
        "for i in range(100):\n",
        "    numbers.append(random.randint(0, 9))\n",
        "print(numbers)\n",
        "print(len(numbers))"
      ],
      "outputs": [
        {
          "output_type": "stream",
          "name": "stdout",
          "text": [
            "[5, 6, 8, 3, 3, 7, 3, 4, 6, 5, 0, 7, 0, 9, 1, 5, 1, 1, 5, 1, 7, 1, 0, 7, 9, 6, 6, 5, 6, 0, 5, 2, 6, 8, 1, 9, 9, 2, 8, 2, 1, 0, 9, 9, 8, 4, 5, 5, 0, 5, 5, 2, 6, 3, 8, 3, 6, 5, 9, 0, 1, 2, 4, 9, 9, 7, 6, 4, 6, 9, 3, 0, 0, 3, 8, 6, 6, 3, 9, 6, 6, 6, 8, 4, 8, 1, 6, 6, 0, 1, 8, 4, 3, 5, 1, 1, 7, 2, 0, 6]\n",
            "100\n"
          ]
        }
      ],
      "metadata": {
        "colab": {
          "base_uri": "https://localhost:8080/"
        },
        "id": "thGxhcJy5oiT",
        "outputId": "1f669f57-b428-495e-f858-a143a4c6b321"
      }
    },
    {
      "cell_type": "code",
      "execution_count": null,
      "source": [
        "for n in range(10):\n",
        "  sum = 0\n",
        "  for i in range(10):\n",
        "    y = random"
      ],
      "outputs": [],
      "metadata": {
        "id": "AQwrvJOv7qRK"
      }
    },
    {
      "cell_type": "code",
      "execution_count": 10,
      "source": [
        "x = [0,0,0,0,0,0]\n",
        "\n",
        "print(x)"
      ],
      "outputs": [
        {
          "output_type": "stream",
          "name": "stdout",
          "text": [
            "[0, 0, 0, 0, 0, 0]\n"
          ]
        }
      ],
      "metadata": {
        "colab": {
          "base_uri": "https://localhost:8080/"
        },
        "id": "xYXVi3iP5t1O",
        "outputId": "d6295470-1b43-4979-fc6e-a0f715b1c45b"
      }
    },
    {
      "cell_type": "code",
      "execution_count": 11,
      "source": [
        "x = [0]*6\n",
        "print(x)"
      ],
      "outputs": [
        {
          "output_type": "stream",
          "name": "stdout",
          "text": [
            "[0, 0, 0, 0, 0, 0]\n"
          ]
        }
      ],
      "metadata": {
        "colab": {
          "base_uri": "https://localhost:8080/"
        },
        "id": "njMYtKxY7gZS",
        "outputId": "cf9a7d7d-27c0-4a90-9198-337801d9a712"
      }
    },
    {
      "cell_type": "code",
      "execution_count": 12,
      "source": [
        "x = [0]*100\n",
        "print(x)"
      ],
      "outputs": [
        {
          "output_type": "stream",
          "name": "stdout",
          "text": [
            "[0, 0, 0, 0, 0, 0, 0, 0, 0, 0, 0, 0, 0, 0, 0, 0, 0, 0, 0, 0, 0, 0, 0, 0, 0, 0, 0, 0, 0, 0, 0, 0, 0, 0, 0, 0, 0, 0, 0, 0, 0, 0, 0, 0, 0, 0, 0, 0, 0, 0, 0, 0, 0, 0, 0, 0, 0, 0, 0, 0, 0, 0, 0, 0, 0, 0, 0, 0, 0, 0, 0, 0, 0, 0, 0, 0, 0, 0, 0, 0, 0, 0, 0, 0, 0, 0, 0, 0, 0, 0, 0, 0, 0, 0, 0, 0, 0, 0, 0, 0]\n"
          ]
        }
      ],
      "metadata": {
        "colab": {
          "base_uri": "https://localhost:8080/"
        },
        "id": "o3cYzQuY7jjJ",
        "outputId": "bf19e774-dd12-4f90-fb43-066234742015"
      }
    },
    {
      "cell_type": "code",
      "execution_count": null,
      "source": [],
      "outputs": [],
      "metadata": {
        "id": "vScQdXsw7oIF"
      }
    }
  ]
}