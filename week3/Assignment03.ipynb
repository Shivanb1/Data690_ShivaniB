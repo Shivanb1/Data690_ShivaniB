{
  "nbformat": 4,
  "nbformat_minor": 0,
  "metadata": {
    "colab": {
      "name": "Assignment03.ipynb",
      "provenance": [],
      "collapsed_sections": []
    },
    "kernelspec": {
      "name": "python3",
      "display_name": "Python 3"
    },
    "language_info": {
      "name": "python"
    }
  },
  "cells": [
    {
      "cell_type": "markdown",
      "source": [
        " ## Problem 1 : Write a program that generates 100 random integers between 0 and 9."
      ],
      "metadata": {
        "id": "6hJwEgB2mxB6"
      }
    },
    {
      "cell_type": "code",
      "execution_count": 14,
      "metadata": {
        "colab": {
          "base_uri": "https://localhost:8080/"
        },
        "id": "5NYhq3MsmmeV",
        "outputId": "f2722ef0-f5dc-4d2e-95e0-f681ddb96865"
      },
      "outputs": [
        {
          "output_type": "stream",
          "name": "stdout",
          "text": [
            " 5 2 1 6 5 4 2 9 8 8 \n",
            " 4 9 5 7 9 8 9 2 3 5 \n",
            " 5 1 7 1 7 6 6 9 0 5 \n",
            " 3 6 5 2 2 3 2 5 9 6 \n",
            " 0 0 1 7 8 0 4 2 2 5 \n",
            " 4 7 1 7 2 2 4 1 9 4 \n",
            " 1 7 3 5 4 6 3 9 9 9 \n",
            " 3 9 5 1 6 0 9 0 2 9 \n",
            " 2 3 1 5 6 4 9 9 7 6 \n",
            " 1 9 7 3 8 0 6 4 3 0 \n",
            " "
          ]
        }
      ],
      "source": [
        "import random\n",
        "\n",
        "for m in range(0,10):\n",
        "  for n in range(0,10):\n",
        "    value = random.randint(0,9)\n",
        "    if m == 0 and n == 0 : \n",
        "      print(\" \" + str(value), end = \" \")\n",
        "    else:\n",
        "      print(value, end = \" \")\n",
        "  print(\"\\n\", end =\" \")\n"
      ]
    },
    {
      "cell_type": "markdown",
      "source": [
        "## Problem 2. Random numbers where odd numbers are replaced by @"
      ],
      "metadata": {
        "id": "I4MEi_S-nJek"
      }
    },
    {
      "cell_type": "code",
      "source": [
        "import random\n",
        "\n",
        "for m in range(0,10):\n",
        "  for n in range(0,10):\n",
        "    val = random.randint(0,9)\n",
        "    if (val % 2) !=0:\n",
        "      if m == 0 and n == 0 : \n",
        "        print(\" @\", end = \" \")\n",
        "      else:\n",
        "        print(\"@\", end = \" \")\n",
        "    else:\n",
        "      print(val, end=\" \")\n",
        "  print(\"\\n\", end =\" \")\n"
      ],
      "metadata": {
        "colab": {
          "base_uri": "https://localhost:8080/"
        },
        "id": "qOdmwCoimsAe",
        "outputId": "5807011d-6315-42f0-be3b-d939cde82143"
      },
      "execution_count": 15,
      "outputs": [
        {
          "output_type": "stream",
          "name": "stdout",
          "text": [
            " @ 6 @ @ @ @ 0 6 2 @ \n",
            " 0 8 8 8 @ @ @ 0 @ @ \n",
            " @ @ 8 @ 4 @ @ @ 6 @ \n",
            " 2 8 4 @ @ @ @ @ 2 @ \n",
            " 2 @ @ @ 2 @ 2 4 6 @ \n",
            " 4 8 @ 6 @ 0 6 0 2 @ \n",
            " @ 4 @ @ @ @ 2 4 @ 8 \n",
            " @ @ @ @ 6 8 @ 2 2 @ \n",
            " @ 2 8 4 @ 0 2 @ 2 8 \n",
            " 4 @ 0 8 0 @ 4 2 @ @ \n",
            " "
          ]
        }
      ]
    },
    {
      "cell_type": "markdown",
      "source": [
        "### Problem 3.Calculate and Print the total of each row like the following (use \"*\" to separate the total from the numbers):"
      ],
      "metadata": {
        "id": "_xJCa86spj7k"
      }
    },
    {
      "cell_type": "code",
      "source": [
        "import random\n",
        "\n",
        "for m in range(0,10):\n",
        "  sumOfValues =0\n",
        "  for n in range(0,10):\n",
        "    value = random.randint(0,9)\n",
        "    sumOfValues =sumOfValues+ value\n",
        "    if m == 0 and n == 0 : \n",
        "      print(\" \" + str(value), end=\" \")\n",
        "    else:\n",
        "      print(value, end=\" \")\n",
        "  print(\"*\", end=\" \")\n",
        "  print(sumOfValues, end=\" \")\n",
        "  print(\"\\n\", end=' ')\n",
        "\n",
        "\n"
      ],
      "metadata": {
        "colab": {
          "base_uri": "https://localhost:8080/"
        },
        "id": "osI0QDSAnap2",
        "outputId": "2c3f09fe-ec27-4c78-9947-b9c149a976ff"
      },
      "execution_count": 16,
      "outputs": [
        {
          "output_type": "stream",
          "name": "stdout",
          "text": [
            " 2 3 9 9 6 3 5 5 8 2 * 52 \n",
            " 3 6 7 9 3 4 9 3 2 4 * 50 \n",
            " 9 0 5 6 7 7 6 5 1 5 * 51 \n",
            " 2 1 1 8 0 7 6 6 4 4 * 39 \n",
            " 3 8 4 5 2 5 6 3 6 7 * 49 \n",
            " 1 8 5 3 9 8 6 4 7 6 * 57 \n",
            " 6 5 7 6 3 4 1 7 2 9 * 50 \n",
            " 6 3 2 1 2 8 3 8 5 6 * 44 \n",
            " 2 4 1 8 1 5 1 3 9 8 * 42 \n",
            " 8 7 0 1 6 1 3 7 6 2 * 41 \n",
            " "
          ]
        }
      ]
    },
    {
      "cell_type": "markdown",
      "source": [
        "###Problem 4.Surround the matrix with asterisks (*) like the following:"
      ],
      "metadata": {
        "id": "1bTjkBrupsme"
      }
    },
    {
      "cell_type": "code",
      "source": [
        "import random\n",
        "\n",
        "print(\"  \",\"********************\")\n",
        "\n",
        "for m in range(0,10):\n",
        "  if m == 0:\n",
        "    print(\" *\",end=\" \")\n",
        "  else:\n",
        "    print(\"*\",end=\" \")\n",
        "  \n",
        "  for n in range(0,10):\n",
        "    val = random.randint(0,9)\n",
        "    print(val, end = \" \")\n",
        "  print(\"*\", end=\" \")  \n",
        "  print(\"\\n\", end =\" \")\n",
        "\n",
        "print(\" \",\"********************\")"
      ],
      "metadata": {
        "colab": {
          "base_uri": "https://localhost:8080/"
        },
        "id": "_I2_uGGgnsAv",
        "outputId": "18db207a-91f2-4055-9a85-89a153965f41"
      },
      "execution_count": 22,
      "outputs": [
        {
          "output_type": "stream",
          "name": "stdout",
          "text": [
            "   ********************\n",
            " * 1 2 8 6 9 7 4 2 2 2 * \n",
            " * 0 8 7 2 1 6 8 0 1 0 * \n",
            " * 2 5 2 7 4 0 4 4 1 5 * \n",
            " * 4 3 2 0 4 5 4 0 1 1 * \n",
            " * 6 6 0 5 1 3 0 3 0 2 * \n",
            " * 6 3 0 6 3 0 5 0 9 2 * \n",
            " * 8 9 3 4 3 7 7 2 7 0 * \n",
            " * 8 0 5 2 6 4 7 8 3 8 * \n",
            " * 4 0 5 9 7 0 8 5 0 3 * \n",
            " * 6 4 5 4 9 3 6 9 1 5 * \n",
            "   ********************\n"
          ]
        }
      ]
    },
    {
      "cell_type": "markdown",
      "source": [
        "###Problem 5.Calculate and Print the total of each row and column like the following:"
      ],
      "metadata": {
        "id": "hkuy4iN9py09"
      }
    },
    {
      "cell_type": "code",
      "source": [
        "randomMatrix = []\n",
        "for m in range(0,10):\n",
        "    r = []\n",
        "    for n in range(0,10):\n",
        "        r.append(random.randint(0,9))\n",
        "    randomMatrix.append(r)\n",
        "\n",
        "for m in randomMatrix:\n",
        "  sumOfValues = 0\n",
        "  for n  in range(0,10):\n",
        "    sumOfValues = sumOfValues + m[n]\n",
        "  print(*m,end = \"\")\n",
        "  print(\"*\", end=\" \")\n",
        "  print(sumOfValues, end=\"\")\n",
        "  print(\"\\n\", end=' ')\n",
        "\n",
        "columnSum = [0] * 10 \n",
        "for m in range(0,10):\n",
        "  for n in range(0,10):\n",
        "    columnSum[m]+= randomMatrix[n][m]\n",
        "  print(\"*\", end=\" \")\n",
        "print(\"\\n\", end = \" \")\n",
        "print(*columnSum, end = \" \")"
      ],
      "metadata": {
        "colab": {
          "base_uri": "https://localhost:8080/"
        },
        "id": "niceLfpCn6US",
        "outputId": "fdce11cb-d9bc-43d5-d3fc-f64cf8018816"
      },
      "execution_count": 9,
      "outputs": [
        {
          "output_type": "stream",
          "name": "stdout",
          "text": [
            "2 9 3 3 7 5 8 1 0 6* 44\n",
            " 2 0 1 5 7 3 4 6 0 4* 32\n",
            " 6 9 9 5 9 9 1 9 6 8* 71\n",
            " 3 0 0 4 9 0 7 3 2 5* 33\n",
            " 8 8 4 0 7 5 8 5 4 5* 54\n",
            " 0 0 1 1 3 4 8 6 4 8* 35\n",
            " 2 8 8 9 7 8 9 4 2 9* 66\n",
            " 0 6 6 8 7 8 8 8 3 2* 56\n",
            " 6 3 5 9 7 2 4 6 4 8* 54\n",
            " 9 0 6 9 9 7 7 8 1 6* 62\n",
            " * * * * * * * * * * \n",
            " 38 43 43 53 72 51 64 56 26 61 "
          ]
        }
      ]
    }
  ]
}